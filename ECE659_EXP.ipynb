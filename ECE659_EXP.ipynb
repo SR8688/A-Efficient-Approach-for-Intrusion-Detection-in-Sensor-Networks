{
  "cells": [
    {
      "cell_type": "code",
      "metadata": {
        "id": "Ld1KtYzToW_I",
        "colab_type": "code",
        "colab": {
          "base_uri": "https://localhost:8080/",
          "height": 71
        },
        "outputId": "5c50c8ac-6def-4bf0-c8ea-36d419b8539d"
      },
      "source": [
        "import numpy as np\n",
        "import pandas as pd\n",
        "import random\n",
        "import seaborn as sns\n",
        "sns.set(style=\"ticks\", color_codes=True)\n",
        "from sklearn.model_selection import train_test_split\n",
        "from sklearn.metrics import accuracy_score\n",
        "import matplotlib.pyplot as plt\n",
        "import timeit\n",
        "from tensorflow.keras.callbacks import EarlyStopping"
      ],
      "execution_count": 3,
      "outputs": []
    },
    {
      "cell_type": "code",
      "metadata": {
        "id": "YNzp8VWiohJ6",
        "colab_type": "code",
        "colab": {
          "base_uri": "https://localhost:8080/",
          "height": 34
        },
        "outputId": "808e413c-4920-4dfb-c9f6-2c6ba196de3f"
      },
      "source": [
        "from google.colab import drive\n",
        "drive.mount('/content/drive')"
      ],
      "execution_count": 4,
      "outputs": []
    },
    {
      "cell_type": "code",
      "metadata": {
        "id": "8wat2NAPojo9",
        "colab_type": "code",
        "colab": {}
      },
      "source": [
        "#Loading Data set\n",
        "df = pd.read_csv(\"/content/drive/My Drive/ECE659/kddcup.data.corrected\")"
      ],
      "execution_count": 0,
      "outputs": []
    },
    {
      "cell_type": "code",
      "execution_count": 5,
      "metadata": {},
      "outputs": [
        {
          "output_type": "stream",
          "name": "stdout",
          "text": "DATA: \n        0  udp  private  SF  105  146  0.1  0.2  0.3  0.4  ...  254  1.00.1  \\\n0       0  udp  private  SF  105  146    0    0    0    0  ...  254     1.0   \n1       0  udp  private  SF  105  146    0    0    0    0  ...  254     1.0   \n2       0  udp  private  SF  105  146    0    0    0    0  ...  254     1.0   \n3       0  udp  private  SF  105  146    0    0    0    0  ...  254     1.0   \n4       0  udp  private  SF  105  146    0    0    0    0  ...  255     1.0   \n...    ..  ...      ...  ..  ...  ...  ...  ...  ...  ...  ...  ...     ...   \n311023  0  udp  private  SF  105  147    0    0    0    0  ...  255     1.0   \n311024  0  udp  private  SF  105  147    0    0    0    0  ...  255     1.0   \n311025  0  udp  private  SF  105  147    0    0    0    0  ...  255     1.0   \n311026  0  udp  private  SF  105  147    0    0    0    0  ...  255     1.0   \n311027  0  udp  private  SF  105  147    0    0    0    0  ...  255     1.0   \n\n        0.01  0.00.6  0.00.7  0.00.8  0.00.9  0.00.10  0.00.11         normal.  \n0       0.01    0.00     0.0     0.0     0.0      0.0      0.0         normal.  \n1       0.01    0.00     0.0     0.0     0.0      0.0      0.0         normal.  \n2       0.01    0.00     0.0     0.0     0.0      0.0      0.0  snmpgetattack.  \n3       0.01    0.01     0.0     0.0     0.0      0.0      0.0  snmpgetattack.  \n4       0.00    0.01     0.0     0.0     0.0      0.0      0.0  snmpgetattack.  \n...      ...     ...     ...     ...     ...      ...      ...             ...  \n311023  0.00    0.01     0.0     0.0     0.0      0.0      0.0         normal.  \n311024  0.00    0.01     0.0     0.0     0.0      0.0      0.0         normal.  \n311025  0.00    0.01     0.0     0.0     0.0      0.0      0.0         normal.  \n311026  0.00    0.01     0.0     0.0     0.0      0.0      0.0         normal.  \n311027  0.00    0.01     0.0     0.0     0.0      0.0      0.0         normal.  \n\n[311028 rows x 42 columns]\n"
        }
      ],
      "source": [
        "# Loading Dataset from local host \n",
        "data_kdd = pd.read_csv(\"~/Documents/Uwaterloo_Study_Docs/659_ECE/Research_Project/Datasets/DATASET/KDD_CUP_1999/corrected\")\n",
        "print(\"DATA: \\n\", data_kdd)"
      ]
    },
    {
      "cell_type": "code",
      "metadata": {
        "id": "4WLzHcl_o45W",
        "colab_type": "code",
        "colab": {
          "base_uri": "https://localhost:8080/",
          "height": 102
        },
        "outputId": "711ec4df-6c1c-4507-c647-66c333e59668"
      },
      "source": [
        "data_kdd.iloc[:,41].unique()"
      ],
      "execution_count": 7,
      "outputs": [
        {
          "output_type": "execute_result",
          "data": {
            "text/plain": "array(['normal.', 'snmpgetattack.', 'named.', 'xlock.', 'smurf.',\n       'ipsweep.', 'multihop.', 'xsnoop.', 'sendmail.', 'guess_passwd.',\n       'saint.', 'buffer_overflow.', 'portsweep.', 'pod.', 'apache2.',\n       'phf.', 'udpstorm.', 'warezmaster.', 'perl.', 'satan.', 'xterm.',\n       'mscan.', 'processtable.', 'ps.', 'nmap.', 'rootkit.', 'neptune.',\n       'loadmodule.', 'imap.', 'back.', 'httptunnel.', 'worm.',\n       'mailbomb.', 'ftp_write.', 'teardrop.', 'land.', 'sqlattack.',\n       'snmpguess.'], dtype=object)"
          },
          "metadata": {},
          "execution_count": 7
        }
      ]
    },
    {
      "cell_type": "code",
      "metadata": {
        "id": "wtFaoWizpGvu",
        "colab_type": "code",
        "colab": {
          "base_uri": "https://localhost:8080/",
          "height": 224
        },
        "outputId": "9e1fa4ff-4629-45a2-9dba-a17290c7e04f"
      },
      "source": [
        "col=['duration','protocol_type','service','flag','src_bytes','dst_bytes','land','wrong_fragment','urgent','hot','num_failed_logins',\n",
        "  'logged_in','num_compromised','root_shell','su_attempted','num_root','num_file_creations','num_shells','num_access_files',\n",
        "  'num_outbound_cmds','is_host_login','is_guest_login','count','srv_count','serror_rate','srv_serror_rate','rerror_rate','srv_rerror_rate',\n",
        "  'same_srv_rate','diff_srv_rate','srv_diff_host_rate','dst_host_count','dst_host_srv_count','dst_host_same_srv_rate',\n",
        "  'dst_host_diff_srv_rate','dst_host_same_src_port_rate','dst_host_srv_diff_host_rate','dst_host_serror_rate','dst_host_srv_serror_rate',\n",
        "  'dst_host_rerror_rate','dst_host_srv_rerror_rate','target']\n",
        "data_kdd.columns=col\n",
        "data_kdd.head(20)\n"
      ],
      "execution_count": 9,
      "outputs": [
        {
          "output_type": "execute_result",
          "data": {
            "text/plain": "    duration protocol_type   service flag  src_bytes  dst_bytes  land  \\\n0          0           udp   private   SF        105        146     0   \n1          0           udp   private   SF        105        146     0   \n2          0           udp   private   SF        105        146     0   \n3          0           udp   private   SF        105        146     0   \n4          0           udp   private   SF        105        146     0   \n5          0           udp  domain_u   SF         29          0     0   \n6          0           udp   private   SF        105        146     0   \n7          0           udp   private   SF        105        146     0   \n8          0           tcp      http   SF        223        185     0   \n9          0           udp   private   SF        105        146     0   \n10         0           tcp      http   SF        230        260     0   \n11         0           udp   private   SF        105        146     0   \n12         0           udp   private   SF        105        146     0   \n13         1           tcp      smtp   SF       3170        329     0   \n14         0           tcp      http   SF        297      13787     0   \n15         0           tcp      http   SF        291       3542     0   \n16         0           tcp      http   SF        295        753     0   \n17         0           udp   private   SF        105        146     0   \n18         0           udp   private   SF        105        146     0   \n19         0           tcp      http   SF        268       9235     0   \n\n    wrong_fragment  urgent  hot  ...  dst_host_srv_count  \\\n0                0       0    0  ...                 254   \n1                0       0    0  ...                 254   \n2                0       0    0  ...                 254   \n3                0       0    0  ...                 254   \n4                0       0    0  ...                 255   \n5                0       0    0  ...                   3   \n6                0       0    0  ...                 253   \n7                0       0    0  ...                 254   \n8                0       0    0  ...                 255   \n9                0       0    0  ...                 254   \n10               0       0    0  ...                 255   \n11               0       0    0  ...                 254   \n12               0       0    0  ...                 252   \n13               0       0    0  ...                  39   \n14               0       0    0  ...                 255   \n15               0       0    0  ...                 255   \n16               0       0    0  ...                 255   \n17               0       0    0  ...                 254   \n18               0       0    0  ...                 254   \n19               0       0    0  ...                 255   \n\n    dst_host_same_srv_rate  dst_host_diff_srv_rate  \\\n0                     1.00                    0.01   \n1                     1.00                    0.01   \n2                     1.00                    0.01   \n3                     1.00                    0.01   \n4                     1.00                    0.00   \n5                     0.30                    0.30   \n6                     0.99                    0.01   \n7                     1.00                    0.01   \n8                     1.00                    0.00   \n9                     1.00                    0.01   \n10                    1.00                    0.00   \n11                    1.00                    0.01   \n12                    0.99                    0.01   \n13                    0.72                    0.11   \n14                    1.00                    0.00   \n15                    1.00                    0.00   \n16                    1.00                    0.00   \n17                    1.00                    0.01   \n18                    1.00                    0.01   \n19                    1.00                    0.00   \n\n    dst_host_same_src_port_rate  dst_host_srv_diff_host_rate  \\\n0                          0.00                         0.00   \n1                          0.00                         0.00   \n2                          0.00                         0.00   \n3                          0.01                         0.00   \n4                          0.01                         0.00   \n5                          0.30                         0.00   \n6                          0.00                         0.00   \n7                          0.00                         0.00   \n8                          0.01                         0.01   \n9                          0.00                         0.00   \n10                         0.33                         0.07   \n11                         0.01                         0.00   \n12                         0.00                         0.00   \n13                         0.02                         0.00   \n14                         0.01                         0.01   \n15                         0.01                         0.01   \n16                         0.01                         0.01   \n17                         0.01                         0.00   \n18                         0.00                         0.00   \n19                         0.02                         0.05   \n\n    dst_host_serror_rate  dst_host_srv_serror_rate  dst_host_rerror_rate  \\\n0                   0.00                       0.0                  0.00   \n1                   0.00                       0.0                  0.00   \n2                   0.00                       0.0                  0.00   \n3                   0.00                       0.0                  0.00   \n4                   0.00                       0.0                  0.00   \n5                   0.00                       0.0                  0.00   \n6                   0.00                       0.0                  0.00   \n7                   0.00                       0.0                  0.00   \n8                   0.00                       0.0                  0.00   \n9                   0.00                       0.0                  0.00   \n10                  0.33                       0.0                  0.00   \n11                  0.00                       0.0                  0.00   \n12                  0.00                       0.0                  0.00   \n13                  0.02                       0.0                  0.09   \n14                  0.00                       0.0                  0.00   \n15                  0.00                       0.0                  0.00   \n16                  0.00                       0.0                  0.00   \n17                  0.00                       0.0                  0.00   \n18                  0.00                       0.0                  0.00   \n19                  0.00                       0.0                  0.00   \n\n    dst_host_srv_rerror_rate          target  \n0                       0.00         normal.  \n1                       0.00         normal.  \n2                       0.00  snmpgetattack.  \n3                       0.00  snmpgetattack.  \n4                       0.00  snmpgetattack.  \n5                       0.00         normal.  \n6                       0.00         normal.  \n7                       0.00  snmpgetattack.  \n8                       0.00         normal.  \n9                       0.00  snmpgetattack.  \n10                      0.00         normal.  \n11                      0.00         normal.  \n12                      0.00  snmpgetattack.  \n13                      0.13         normal.  \n14                      0.00         normal.  \n15                      0.00         normal.  \n16                      0.00         normal.  \n17                      0.00  snmpgetattack.  \n18                      0.00  snmpgetattack.  \n19                      0.00         normal.  \n\n[20 rows x 42 columns]",
            "text/html": "<div>\n<style scoped>\n    .dataframe tbody tr th:only-of-type {\n        vertical-align: middle;\n    }\n\n    .dataframe tbody tr th {\n        vertical-align: top;\n    }\n\n    .dataframe thead th {\n        text-align: right;\n    }\n</style>\n<table border=\"1\" class=\"dataframe\">\n  <thead>\n    <tr style=\"text-align: right;\">\n      <th></th>\n      <th>duration</th>\n      <th>protocol_type</th>\n      <th>service</th>\n      <th>flag</th>\n      <th>src_bytes</th>\n      <th>dst_bytes</th>\n      <th>land</th>\n      <th>wrong_fragment</th>\n      <th>urgent</th>\n      <th>hot</th>\n      <th>...</th>\n      <th>dst_host_srv_count</th>\n      <th>dst_host_same_srv_rate</th>\n      <th>dst_host_diff_srv_rate</th>\n      <th>dst_host_same_src_port_rate</th>\n      <th>dst_host_srv_diff_host_rate</th>\n      <th>dst_host_serror_rate</th>\n      <th>dst_host_srv_serror_rate</th>\n      <th>dst_host_rerror_rate</th>\n      <th>dst_host_srv_rerror_rate</th>\n      <th>target</th>\n    </tr>\n  </thead>\n  <tbody>\n    <tr>\n      <th>0</th>\n      <td>0</td>\n      <td>udp</td>\n      <td>private</td>\n      <td>SF</td>\n      <td>105</td>\n      <td>146</td>\n      <td>0</td>\n      <td>0</td>\n      <td>0</td>\n      <td>0</td>\n      <td>...</td>\n      <td>254</td>\n      <td>1.00</td>\n      <td>0.01</td>\n      <td>0.00</td>\n      <td>0.00</td>\n      <td>0.00</td>\n      <td>0.0</td>\n      <td>0.00</td>\n      <td>0.00</td>\n      <td>normal.</td>\n    </tr>\n    <tr>\n      <th>1</th>\n      <td>0</td>\n      <td>udp</td>\n      <td>private</td>\n      <td>SF</td>\n      <td>105</td>\n      <td>146</td>\n      <td>0</td>\n      <td>0</td>\n      <td>0</td>\n      <td>0</td>\n      <td>...</td>\n      <td>254</td>\n      <td>1.00</td>\n      <td>0.01</td>\n      <td>0.00</td>\n      <td>0.00</td>\n      <td>0.00</td>\n      <td>0.0</td>\n      <td>0.00</td>\n      <td>0.00</td>\n      <td>normal.</td>\n    </tr>\n    <tr>\n      <th>2</th>\n      <td>0</td>\n      <td>udp</td>\n      <td>private</td>\n      <td>SF</td>\n      <td>105</td>\n      <td>146</td>\n      <td>0</td>\n      <td>0</td>\n      <td>0</td>\n      <td>0</td>\n      <td>...</td>\n      <td>254</td>\n      <td>1.00</td>\n      <td>0.01</td>\n      <td>0.00</td>\n      <td>0.00</td>\n      <td>0.00</td>\n      <td>0.0</td>\n      <td>0.00</td>\n      <td>0.00</td>\n      <td>snmpgetattack.</td>\n    </tr>\n    <tr>\n      <th>3</th>\n      <td>0</td>\n      <td>udp</td>\n      <td>private</td>\n      <td>SF</td>\n      <td>105</td>\n      <td>146</td>\n      <td>0</td>\n      <td>0</td>\n      <td>0</td>\n      <td>0</td>\n      <td>...</td>\n      <td>254</td>\n      <td>1.00</td>\n      <td>0.01</td>\n      <td>0.01</td>\n      <td>0.00</td>\n      <td>0.00</td>\n      <td>0.0</td>\n      <td>0.00</td>\n      <td>0.00</td>\n      <td>snmpgetattack.</td>\n    </tr>\n    <tr>\n      <th>4</th>\n      <td>0</td>\n      <td>udp</td>\n      <td>private</td>\n      <td>SF</td>\n      <td>105</td>\n      <td>146</td>\n      <td>0</td>\n      <td>0</td>\n      <td>0</td>\n      <td>0</td>\n      <td>...</td>\n      <td>255</td>\n      <td>1.00</td>\n      <td>0.00</td>\n      <td>0.01</td>\n      <td>0.00</td>\n      <td>0.00</td>\n      <td>0.0</td>\n      <td>0.00</td>\n      <td>0.00</td>\n      <td>snmpgetattack.</td>\n    </tr>\n    <tr>\n      <th>5</th>\n      <td>0</td>\n      <td>udp</td>\n      <td>domain_u</td>\n      <td>SF</td>\n      <td>29</td>\n      <td>0</td>\n      <td>0</td>\n      <td>0</td>\n      <td>0</td>\n      <td>0</td>\n      <td>...</td>\n      <td>3</td>\n      <td>0.30</td>\n      <td>0.30</td>\n      <td>0.30</td>\n      <td>0.00</td>\n      <td>0.00</td>\n      <td>0.0</td>\n      <td>0.00</td>\n      <td>0.00</td>\n      <td>normal.</td>\n    </tr>\n    <tr>\n      <th>6</th>\n      <td>0</td>\n      <td>udp</td>\n      <td>private</td>\n      <td>SF</td>\n      <td>105</td>\n      <td>146</td>\n      <td>0</td>\n      <td>0</td>\n      <td>0</td>\n      <td>0</td>\n      <td>...</td>\n      <td>253</td>\n      <td>0.99</td>\n      <td>0.01</td>\n      <td>0.00</td>\n      <td>0.00</td>\n      <td>0.00</td>\n      <td>0.0</td>\n      <td>0.00</td>\n      <td>0.00</td>\n      <td>normal.</td>\n    </tr>\n    <tr>\n      <th>7</th>\n      <td>0</td>\n      <td>udp</td>\n      <td>private</td>\n      <td>SF</td>\n      <td>105</td>\n      <td>146</td>\n      <td>0</td>\n      <td>0</td>\n      <td>0</td>\n      <td>0</td>\n      <td>...</td>\n      <td>254</td>\n      <td>1.00</td>\n      <td>0.01</td>\n      <td>0.00</td>\n      <td>0.00</td>\n      <td>0.00</td>\n      <td>0.0</td>\n      <td>0.00</td>\n      <td>0.00</td>\n      <td>snmpgetattack.</td>\n    </tr>\n    <tr>\n      <th>8</th>\n      <td>0</td>\n      <td>tcp</td>\n      <td>http</td>\n      <td>SF</td>\n      <td>223</td>\n      <td>185</td>\n      <td>0</td>\n      <td>0</td>\n      <td>0</td>\n      <td>0</td>\n      <td>...</td>\n      <td>255</td>\n      <td>1.00</td>\n      <td>0.00</td>\n      <td>0.01</td>\n      <td>0.01</td>\n      <td>0.00</td>\n      <td>0.0</td>\n      <td>0.00</td>\n      <td>0.00</td>\n      <td>normal.</td>\n    </tr>\n    <tr>\n      <th>9</th>\n      <td>0</td>\n      <td>udp</td>\n      <td>private</td>\n      <td>SF</td>\n      <td>105</td>\n      <td>146</td>\n      <td>0</td>\n      <td>0</td>\n      <td>0</td>\n      <td>0</td>\n      <td>...</td>\n      <td>254</td>\n      <td>1.00</td>\n      <td>0.01</td>\n      <td>0.00</td>\n      <td>0.00</td>\n      <td>0.00</td>\n      <td>0.0</td>\n      <td>0.00</td>\n      <td>0.00</td>\n      <td>snmpgetattack.</td>\n    </tr>\n    <tr>\n      <th>10</th>\n      <td>0</td>\n      <td>tcp</td>\n      <td>http</td>\n      <td>SF</td>\n      <td>230</td>\n      <td>260</td>\n      <td>0</td>\n      <td>0</td>\n      <td>0</td>\n      <td>0</td>\n      <td>...</td>\n      <td>255</td>\n      <td>1.00</td>\n      <td>0.00</td>\n      <td>0.33</td>\n      <td>0.07</td>\n      <td>0.33</td>\n      <td>0.0</td>\n      <td>0.00</td>\n      <td>0.00</td>\n      <td>normal.</td>\n    </tr>\n    <tr>\n      <th>11</th>\n      <td>0</td>\n      <td>udp</td>\n      <td>private</td>\n      <td>SF</td>\n      <td>105</td>\n      <td>146</td>\n      <td>0</td>\n      <td>0</td>\n      <td>0</td>\n      <td>0</td>\n      <td>...</td>\n      <td>254</td>\n      <td>1.00</td>\n      <td>0.01</td>\n      <td>0.01</td>\n      <td>0.00</td>\n      <td>0.00</td>\n      <td>0.0</td>\n      <td>0.00</td>\n      <td>0.00</td>\n      <td>normal.</td>\n    </tr>\n    <tr>\n      <th>12</th>\n      <td>0</td>\n      <td>udp</td>\n      <td>private</td>\n      <td>SF</td>\n      <td>105</td>\n      <td>146</td>\n      <td>0</td>\n      <td>0</td>\n      <td>0</td>\n      <td>0</td>\n      <td>...</td>\n      <td>252</td>\n      <td>0.99</td>\n      <td>0.01</td>\n      <td>0.00</td>\n      <td>0.00</td>\n      <td>0.00</td>\n      <td>0.0</td>\n      <td>0.00</td>\n      <td>0.00</td>\n      <td>snmpgetattack.</td>\n    </tr>\n    <tr>\n      <th>13</th>\n      <td>1</td>\n      <td>tcp</td>\n      <td>smtp</td>\n      <td>SF</td>\n      <td>3170</td>\n      <td>329</td>\n      <td>0</td>\n      <td>0</td>\n      <td>0</td>\n      <td>0</td>\n      <td>...</td>\n      <td>39</td>\n      <td>0.72</td>\n      <td>0.11</td>\n      <td>0.02</td>\n      <td>0.00</td>\n      <td>0.02</td>\n      <td>0.0</td>\n      <td>0.09</td>\n      <td>0.13</td>\n      <td>normal.</td>\n    </tr>\n    <tr>\n      <th>14</th>\n      <td>0</td>\n      <td>tcp</td>\n      <td>http</td>\n      <td>SF</td>\n      <td>297</td>\n      <td>13787</td>\n      <td>0</td>\n      <td>0</td>\n      <td>0</td>\n      <td>0</td>\n      <td>...</td>\n      <td>255</td>\n      <td>1.00</td>\n      <td>0.00</td>\n      <td>0.01</td>\n      <td>0.01</td>\n      <td>0.00</td>\n      <td>0.0</td>\n      <td>0.00</td>\n      <td>0.00</td>\n      <td>normal.</td>\n    </tr>\n    <tr>\n      <th>15</th>\n      <td>0</td>\n      <td>tcp</td>\n      <td>http</td>\n      <td>SF</td>\n      <td>291</td>\n      <td>3542</td>\n      <td>0</td>\n      <td>0</td>\n      <td>0</td>\n      <td>0</td>\n      <td>...</td>\n      <td>255</td>\n      <td>1.00</td>\n      <td>0.00</td>\n      <td>0.01</td>\n      <td>0.01</td>\n      <td>0.00</td>\n      <td>0.0</td>\n      <td>0.00</td>\n      <td>0.00</td>\n      <td>normal.</td>\n    </tr>\n    <tr>\n      <th>16</th>\n      <td>0</td>\n      <td>tcp</td>\n      <td>http</td>\n      <td>SF</td>\n      <td>295</td>\n      <td>753</td>\n      <td>0</td>\n      <td>0</td>\n      <td>0</td>\n      <td>0</td>\n      <td>...</td>\n      <td>255</td>\n      <td>1.00</td>\n      <td>0.00</td>\n      <td>0.01</td>\n      <td>0.01</td>\n      <td>0.00</td>\n      <td>0.0</td>\n      <td>0.00</td>\n      <td>0.00</td>\n      <td>normal.</td>\n    </tr>\n    <tr>\n      <th>17</th>\n      <td>0</td>\n      <td>udp</td>\n      <td>private</td>\n      <td>SF</td>\n      <td>105</td>\n      <td>146</td>\n      <td>0</td>\n      <td>0</td>\n      <td>0</td>\n      <td>0</td>\n      <td>...</td>\n      <td>254</td>\n      <td>1.00</td>\n      <td>0.01</td>\n      <td>0.01</td>\n      <td>0.00</td>\n      <td>0.00</td>\n      <td>0.0</td>\n      <td>0.00</td>\n      <td>0.00</td>\n      <td>snmpgetattack.</td>\n    </tr>\n    <tr>\n      <th>18</th>\n      <td>0</td>\n      <td>udp</td>\n      <td>private</td>\n      <td>SF</td>\n      <td>105</td>\n      <td>146</td>\n      <td>0</td>\n      <td>0</td>\n      <td>0</td>\n      <td>0</td>\n      <td>...</td>\n      <td>254</td>\n      <td>1.00</td>\n      <td>0.01</td>\n      <td>0.00</td>\n      <td>0.00</td>\n      <td>0.00</td>\n      <td>0.0</td>\n      <td>0.00</td>\n      <td>0.00</td>\n      <td>snmpgetattack.</td>\n    </tr>\n    <tr>\n      <th>19</th>\n      <td>0</td>\n      <td>tcp</td>\n      <td>http</td>\n      <td>SF</td>\n      <td>268</td>\n      <td>9235</td>\n      <td>0</td>\n      <td>0</td>\n      <td>0</td>\n      <td>0</td>\n      <td>...</td>\n      <td>255</td>\n      <td>1.00</td>\n      <td>0.00</td>\n      <td>0.02</td>\n      <td>0.05</td>\n      <td>0.00</td>\n      <td>0.0</td>\n      <td>0.00</td>\n      <td>0.00</td>\n      <td>normal.</td>\n    </tr>\n  </tbody>\n</table>\n<p>20 rows × 42 columns</p>\n</div>"
          },
          "metadata": {},
          "execution_count": 9
        }
      ]
    },
    {
      "cell_type": "code",
      "metadata": {
        "id": "lxRxDnUJIJmR",
        "colab_type": "code",
        "colab": {}
      },
      "source": [
        "from sklearn import preprocessing\n",
        "#protocol_type\n",
        "protocol_type = preprocessing.LabelEncoder()\n",
        "protocol_type.fit(df['protocol_type'])\n",
        "df['protocol_type']=protocol_type.transform(df['protocol_type'])\n",
        "#service\n",
        "service = preprocessing.LabelEncoder()\n",
        "service.fit(df['service'])\n",
        "df['service']=service.transform(df['service'])\n",
        "# flag\n",
        "service = preprocessing.LabelEncoder()\n",
        "service.fit(df['flag'])\n",
        "df['flag']=service.transform(df['flag'])\n",
        "# target\n",
        "service = preprocessing.LabelEncoder()\n",
        "service.fit(df['target'])\n",
        "df['target']=service.transform(df['target'])"
      ],
      "execution_count": 0,
      "outputs": []
    },
    {
      "cell_type": "code",
      "metadata": {
        "id": "flFFbDGAK-lw",
        "colab_type": "code",
        "colab": {
          "base_uri": "https://localhost:8080/",
          "height": 224
        },
        "outputId": "620ce678-0e0d-48bf-c51e-88bbddd1ded7"
      },
      "source": [
        "df.head(20)"
      ],
      "execution_count": 7,
      "outputs": [
        {
          "output_type": "execute_result",
          "data": {
            "text/html": [
              "<div>\n",
              "<style scoped>\n",
              "    .dataframe tbody tr th:only-of-type {\n",
              "        vertical-align: middle;\n",
              "    }\n",
              "\n",
              "    .dataframe tbody tr th {\n",
              "        vertical-align: top;\n",
              "    }\n",
              "\n",
              "    .dataframe thead th {\n",
              "        text-align: right;\n",
              "    }\n",
              "</style>\n",
              "<table border=\"1\" class=\"dataframe\">\n",
              "  <thead>\n",
              "    <tr style=\"text-align: right;\">\n",
              "      <th></th>\n",
              "      <th>duration</th>\n",
              "      <th>protocol_type</th>\n",
              "      <th>service</th>\n",
              "      <th>flag</th>\n",
              "      <th>src_bytes</th>\n",
              "      <th>dst_bytes</th>\n",
              "      <th>land</th>\n",
              "      <th>wrong_fragment</th>\n",
              "      <th>urgent</th>\n",
              "      <th>hot</th>\n",
              "      <th>num_failed_logins</th>\n",
              "      <th>logged_in</th>\n",
              "      <th>num_compromised</th>\n",
              "      <th>root_shell</th>\n",
              "      <th>su_attempted</th>\n",
              "      <th>num_root</th>\n",
              "      <th>num_file_creations</th>\n",
              "      <th>num_shells</th>\n",
              "      <th>num_access_files</th>\n",
              "      <th>num_outbound_cmds</th>\n",
              "      <th>is_host_login</th>\n",
              "      <th>is_guest_login</th>\n",
              "      <th>count</th>\n",
              "      <th>srv_count</th>\n",
              "      <th>serror_rate</th>\n",
              "      <th>srv_serror_rate</th>\n",
              "      <th>rerror_rate</th>\n",
              "      <th>srv_rerror_rate</th>\n",
              "      <th>same_srv_rate</th>\n",
              "      <th>diff_srv_rate</th>\n",
              "      <th>srv_diff_host_rate</th>\n",
              "      <th>dst_host_count</th>\n",
              "      <th>dst_host_srv_count</th>\n",
              "      <th>dst_host_same_srv_rate</th>\n",
              "      <th>dst_host_diff_srv_rate</th>\n",
              "      <th>dst_host_same_src_port_rate</th>\n",
              "      <th>dst_host_srv_diff_host_rate</th>\n",
              "      <th>dst_host_serror_rate</th>\n",
              "      <th>dst_host_srv_serror_rate</th>\n",
              "      <th>dst_host_rerror_rate</th>\n",
              "      <th>dst_host_srv_rerror_rate</th>\n",
              "      <th>target</th>\n",
              "    </tr>\n",
              "  </thead>\n",
              "  <tbody>\n",
              "    <tr>\n",
              "      <th>0</th>\n",
              "      <td>0</td>\n",
              "      <td>1</td>\n",
              "      <td>24</td>\n",
              "      <td>9</td>\n",
              "      <td>162</td>\n",
              "      <td>4528</td>\n",
              "      <td>0</td>\n",
              "      <td>0</td>\n",
              "      <td>0</td>\n",
              "      <td>0</td>\n",
              "      <td>0</td>\n",
              "      <td>1</td>\n",
              "      <td>0</td>\n",
              "      <td>0</td>\n",
              "      <td>0</td>\n",
              "      <td>0</td>\n",
              "      <td>0</td>\n",
              "      <td>0</td>\n",
              "      <td>0</td>\n",
              "      <td>0</td>\n",
              "      <td>0</td>\n",
              "      <td>0</td>\n",
              "      <td>2</td>\n",
              "      <td>2</td>\n",
              "      <td>0.0</td>\n",
              "      <td>0.0</td>\n",
              "      <td>0.0</td>\n",
              "      <td>0.0</td>\n",
              "      <td>1.0</td>\n",
              "      <td>0.0</td>\n",
              "      <td>0.0</td>\n",
              "      <td>1</td>\n",
              "      <td>1</td>\n",
              "      <td>1.0</td>\n",
              "      <td>0.0</td>\n",
              "      <td>1.00</td>\n",
              "      <td>0.0</td>\n",
              "      <td>0.0</td>\n",
              "      <td>0.0</td>\n",
              "      <td>0.0</td>\n",
              "      <td>0.0</td>\n",
              "      <td>11</td>\n",
              "    </tr>\n",
              "    <tr>\n",
              "      <th>1</th>\n",
              "      <td>0</td>\n",
              "      <td>1</td>\n",
              "      <td>24</td>\n",
              "      <td>9</td>\n",
              "      <td>236</td>\n",
              "      <td>1228</td>\n",
              "      <td>0</td>\n",
              "      <td>0</td>\n",
              "      <td>0</td>\n",
              "      <td>0</td>\n",
              "      <td>0</td>\n",
              "      <td>1</td>\n",
              "      <td>0</td>\n",
              "      <td>0</td>\n",
              "      <td>0</td>\n",
              "      <td>0</td>\n",
              "      <td>0</td>\n",
              "      <td>0</td>\n",
              "      <td>0</td>\n",
              "      <td>0</td>\n",
              "      <td>0</td>\n",
              "      <td>0</td>\n",
              "      <td>1</td>\n",
              "      <td>1</td>\n",
              "      <td>0.0</td>\n",
              "      <td>0.0</td>\n",
              "      <td>0.0</td>\n",
              "      <td>0.0</td>\n",
              "      <td>1.0</td>\n",
              "      <td>0.0</td>\n",
              "      <td>0.0</td>\n",
              "      <td>2</td>\n",
              "      <td>2</td>\n",
              "      <td>1.0</td>\n",
              "      <td>0.0</td>\n",
              "      <td>0.50</td>\n",
              "      <td>0.0</td>\n",
              "      <td>0.0</td>\n",
              "      <td>0.0</td>\n",
              "      <td>0.0</td>\n",
              "      <td>0.0</td>\n",
              "      <td>11</td>\n",
              "    </tr>\n",
              "    <tr>\n",
              "      <th>2</th>\n",
              "      <td>0</td>\n",
              "      <td>1</td>\n",
              "      <td>24</td>\n",
              "      <td>9</td>\n",
              "      <td>233</td>\n",
              "      <td>2032</td>\n",
              "      <td>0</td>\n",
              "      <td>0</td>\n",
              "      <td>0</td>\n",
              "      <td>0</td>\n",
              "      <td>0</td>\n",
              "      <td>1</td>\n",
              "      <td>0</td>\n",
              "      <td>0</td>\n",
              "      <td>0</td>\n",
              "      <td>0</td>\n",
              "      <td>0</td>\n",
              "      <td>0</td>\n",
              "      <td>0</td>\n",
              "      <td>0</td>\n",
              "      <td>0</td>\n",
              "      <td>0</td>\n",
              "      <td>2</td>\n",
              "      <td>2</td>\n",
              "      <td>0.0</td>\n",
              "      <td>0.0</td>\n",
              "      <td>0.0</td>\n",
              "      <td>0.0</td>\n",
              "      <td>1.0</td>\n",
              "      <td>0.0</td>\n",
              "      <td>0.0</td>\n",
              "      <td>3</td>\n",
              "      <td>3</td>\n",
              "      <td>1.0</td>\n",
              "      <td>0.0</td>\n",
              "      <td>0.33</td>\n",
              "      <td>0.0</td>\n",
              "      <td>0.0</td>\n",
              "      <td>0.0</td>\n",
              "      <td>0.0</td>\n",
              "      <td>0.0</td>\n",
              "      <td>11</td>\n",
              "    </tr>\n",
              "    <tr>\n",
              "      <th>3</th>\n",
              "      <td>0</td>\n",
              "      <td>1</td>\n",
              "      <td>24</td>\n",
              "      <td>9</td>\n",
              "      <td>239</td>\n",
              "      <td>486</td>\n",
              "      <td>0</td>\n",
              "      <td>0</td>\n",
              "      <td>0</td>\n",
              "      <td>0</td>\n",
              "      <td>0</td>\n",
              "      <td>1</td>\n",
              "      <td>0</td>\n",
              "      <td>0</td>\n",
              "      <td>0</td>\n",
              "      <td>0</td>\n",
              "      <td>0</td>\n",
              "      <td>0</td>\n",
              "      <td>0</td>\n",
              "      <td>0</td>\n",
              "      <td>0</td>\n",
              "      <td>0</td>\n",
              "      <td>3</td>\n",
              "      <td>3</td>\n",
              "      <td>0.0</td>\n",
              "      <td>0.0</td>\n",
              "      <td>0.0</td>\n",
              "      <td>0.0</td>\n",
              "      <td>1.0</td>\n",
              "      <td>0.0</td>\n",
              "      <td>0.0</td>\n",
              "      <td>4</td>\n",
              "      <td>4</td>\n",
              "      <td>1.0</td>\n",
              "      <td>0.0</td>\n",
              "      <td>0.25</td>\n",
              "      <td>0.0</td>\n",
              "      <td>0.0</td>\n",
              "      <td>0.0</td>\n",
              "      <td>0.0</td>\n",
              "      <td>0.0</td>\n",
              "      <td>11</td>\n",
              "    </tr>\n",
              "    <tr>\n",
              "      <th>4</th>\n",
              "      <td>0</td>\n",
              "      <td>1</td>\n",
              "      <td>24</td>\n",
              "      <td>9</td>\n",
              "      <td>238</td>\n",
              "      <td>1282</td>\n",
              "      <td>0</td>\n",
              "      <td>0</td>\n",
              "      <td>0</td>\n",
              "      <td>0</td>\n",
              "      <td>0</td>\n",
              "      <td>1</td>\n",
              "      <td>0</td>\n",
              "      <td>0</td>\n",
              "      <td>0</td>\n",
              "      <td>0</td>\n",
              "      <td>0</td>\n",
              "      <td>0</td>\n",
              "      <td>0</td>\n",
              "      <td>0</td>\n",
              "      <td>0</td>\n",
              "      <td>0</td>\n",
              "      <td>4</td>\n",
              "      <td>4</td>\n",
              "      <td>0.0</td>\n",
              "      <td>0.0</td>\n",
              "      <td>0.0</td>\n",
              "      <td>0.0</td>\n",
              "      <td>1.0</td>\n",
              "      <td>0.0</td>\n",
              "      <td>0.0</td>\n",
              "      <td>5</td>\n",
              "      <td>5</td>\n",
              "      <td>1.0</td>\n",
              "      <td>0.0</td>\n",
              "      <td>0.20</td>\n",
              "      <td>0.0</td>\n",
              "      <td>0.0</td>\n",
              "      <td>0.0</td>\n",
              "      <td>0.0</td>\n",
              "      <td>0.0</td>\n",
              "      <td>11</td>\n",
              "    </tr>\n",
              "  </tbody>\n",
              "</table>\n",
              "</div>"
            ],
            "text/plain": [
              "   duration  protocol_type  ...  dst_host_srv_rerror_rate  target\n",
              "0         0              1  ...                       0.0      11\n",
              "1         0              1  ...                       0.0      11\n",
              "2         0              1  ...                       0.0      11\n",
              "3         0              1  ...                       0.0      11\n",
              "4         0              1  ...                       0.0      11\n",
              "\n",
              "[5 rows x 42 columns]"
            ]
          },
          "metadata": {
            "tags": []
          },
          "execution_count": 7
        }
      ]
    },
    {
      "cell_type": "code",
      "metadata": {
        "id": "PDoEGy4JcQIW",
        "colab_type": "code",
        "colab": {
          "base_uri": "https://localhost:8080/",
          "height": 34
        },
        "outputId": "0d1d623e-b8c4-4489-eb82-968050d14e54"
      },
      "source": [
        "df.shape"
      ],
      "execution_count": 8,
      "outputs": [
        {
          "output_type": "execute_result",
          "data": {
            "text/plain": [
              "(4898430, 42)"
            ]
          },
          "metadata": {
            "tags": []
          },
          "execution_count": 8
        }
      ]
    },
    {
      "cell_type": "code",
      "metadata": {
        "id": "1rSFjkQ4OdY-",
        "colab_type": "code",
        "colab": {}
      },
      "source": [
        "D=['duration','protocol_type','service','flag','src_bytes','dst_bytes','land','wrong_fragment','urgent','hot','num_failed_logins',\n",
        "  'logged_in','num_compromised','root_shell','su_attempted','num_root','num_file_creations','num_shells','num_access_files',\n",
        "  'num_outbound_cmds','is_host_login','is_guest_login','count','srv_count','serror_rate','srv_serror_rate','rerror_rate','srv_rerror_rate',\n",
        "  'same_srv_rate','diff_srv_rate','srv_diff_host_rate','dst_host_count','dst_host_srv_count','dst_host_same_srv_rate',\n",
        "  'dst_host_diff_srv_rate','dst_host_same_src_port_rate','dst_host_srv_diff_host_rate','dst_host_serror_rate','dst_host_srv_serror_rate',\n",
        "  'dst_host_rerror_rate','dst_host_srv_rerror_rate']\n",
        "X=df[D]\n",
        "y=df['target']"
      ],
      "execution_count": 0,
      "outputs": []
    },
    {
      "cell_type": "code",
      "metadata": {
        "id": "ktmi3JS0PK4z",
        "colab_type": "code",
        "colab": {}
      },
      "source": [
        "ran = 42\n",
        "X_train, X_test, y_train, y_test = train_test_split(X, y, test_size=0.2, random_state = ran) "
      ],
      "execution_count": 0,
      "outputs": []
    },
    {
      "cell_type": "code",
      "metadata": {
        "id": "VOM5hiR7P9ID",
        "colab_type": "code",
        "colab": {
          "base_uri": "https://localhost:8080/",
          "height": 34
        },
        "outputId": "30480382-ce4d-4628-a139-c919eeb6408d"
      },
      "source": [
        "from sklearn.ensemble import RandomForestClassifier\n",
        "RFC=RandomForestClassifier(n_estimators=5,max_depth=None,random_state=42)\n",
        "RFC.fit(X_train,y_train.values.ravel())\n",
        "pred_RFC=RFC.predict(X_test)\n",
        "RFC_accuracy_store=accuracy_score(y_test.values.ravel(),pred_RFC)\n",
        "RFC_accuracy_store"
      ],
      "execution_count": 11,
      "outputs": [
        {
          "output_type": "execute_result",
          "data": {
            "text/plain": [
              "0.9999356936814449"
            ]
          },
          "metadata": {
            "tags": []
          },
          "execution_count": 11
        }
      ]
    },
    {
      "cell_type": "code",
      "metadata": {
        "id": "DyrrcSwVdQOW",
        "colab_type": "code",
        "colab": {
          "base_uri": "https://localhost:8080/",
          "height": 309
        },
        "outputId": "8d05e906-6cc7-475d-c834-0f8190a5bc6e"
      },
      "source": [
        "from sklearn.model_selection import cross_val_score\n",
        "tree=[10,5]\n",
        "depth=[3,5,10,0]\n",
        "store_val=np.ndarray(shape=(5,4),dtype=float)\n",
        "for coun_t,value_t in enumerate(tree):\n",
        "    #print(coun_t,value_t)\n",
        "    for coun_d,value_d in enumerate(depth):\n",
        "        if value_d==0:\n",
        "            rf=RandomForestClassifier(n_estimators=value_t,max_depth=None,random_state=42)\n",
        "        else:\n",
        "            rf=RandomForestClassifier(n_estimators=value_t,max_depth=value_d,random_state=42)\n",
        "        score=cross_val_score(rf, X, y.values.ravel(), cv=10)\n",
        "        store_val[coun_t][coun_d]=np.mean(score)\n",
        "        #print(np.mean(score))"
      ],
      "execution_count": 12,
      "outputs": [
        {
          "output_type": "stream",
          "text": [
            "/usr/local/lib/python3.6/dist-packages/sklearn/model_selection/_split.py:667: UserWarning: The least populated class in y has only 2 members, which is less than n_splits=10.\n",
            "  % (min_groups, self.n_splits)), UserWarning)\n",
            "/usr/local/lib/python3.6/dist-packages/sklearn/model_selection/_split.py:667: UserWarning: The least populated class in y has only 2 members, which is less than n_splits=10.\n",
            "  % (min_groups, self.n_splits)), UserWarning)\n",
            "/usr/local/lib/python3.6/dist-packages/sklearn/model_selection/_split.py:667: UserWarning: The least populated class in y has only 2 members, which is less than n_splits=10.\n",
            "  % (min_groups, self.n_splits)), UserWarning)\n",
            "/usr/local/lib/python3.6/dist-packages/sklearn/model_selection/_split.py:667: UserWarning: The least populated class in y has only 2 members, which is less than n_splits=10.\n",
            "  % (min_groups, self.n_splits)), UserWarning)\n",
            "/usr/local/lib/python3.6/dist-packages/sklearn/model_selection/_split.py:667: UserWarning: The least populated class in y has only 2 members, which is less than n_splits=10.\n",
            "  % (min_groups, self.n_splits)), UserWarning)\n",
            "/usr/local/lib/python3.6/dist-packages/sklearn/model_selection/_split.py:667: UserWarning: The least populated class in y has only 2 members, which is less than n_splits=10.\n",
            "  % (min_groups, self.n_splits)), UserWarning)\n",
            "/usr/local/lib/python3.6/dist-packages/sklearn/model_selection/_split.py:667: UserWarning: The least populated class in y has only 2 members, which is less than n_splits=10.\n",
            "  % (min_groups, self.n_splits)), UserWarning)\n",
            "/usr/local/lib/python3.6/dist-packages/sklearn/model_selection/_split.py:667: UserWarning: The least populated class in y has only 2 members, which is less than n_splits=10.\n",
            "  % (min_groups, self.n_splits)), UserWarning)\n"
          ],
          "name": "stderr"
        }
      ]
    },
    {
      "cell_type": "code",
      "metadata": {
        "id": "l9UsVrvqdRiS",
        "colab_type": "code",
        "colab": {}
      },
      "source": [
        "arr=pd.DataFrame(store_val,columns=['3','5','10','None'],index=['200','150','50','10','5'])"
      ],
      "execution_count": 0,
      "outputs": []
    },
    {
      "cell_type": "code",
      "metadata": {
        "id": "ELuVA9Zkkdgm",
        "colab_type": "code",
        "colab": {
          "base_uri": "https://localhost:8080/",
          "height": 204
        },
        "outputId": "700e63aa-70de-41e6-802c-2036748cfd5e"
      },
      "source": [
        "arr"
      ],
      "execution_count": 16,
      "outputs": [
        {
          "output_type": "execute_result",
          "data": {
            "text/html": [
              "<div>\n",
              "<style scoped>\n",
              "    .dataframe tbody tr th:only-of-type {\n",
              "        vertical-align: middle;\n",
              "    }\n",
              "\n",
              "    .dataframe tbody tr th {\n",
              "        vertical-align: top;\n",
              "    }\n",
              "\n",
              "    .dataframe thead th {\n",
              "        text-align: right;\n",
              "    }\n",
              "</style>\n",
              "<table border=\"1\" class=\"dataframe\">\n",
              "  <thead>\n",
              "    <tr style=\"text-align: right;\">\n",
              "      <th></th>\n",
              "      <th>3</th>\n",
              "      <th>5</th>\n",
              "      <th>10</th>\n",
              "      <th>None</th>\n",
              "    </tr>\n",
              "  </thead>\n",
              "  <tbody>\n",
              "    <tr>\n",
              "      <th>200</th>\n",
              "      <td>9.912505e-01</td>\n",
              "      <td>9.969823e-01</td>\n",
              "      <td>9.992689e-01</td>\n",
              "      <td>9.994421e-01</td>\n",
              "    </tr>\n",
              "    <tr>\n",
              "      <th>150</th>\n",
              "      <td>9.896844e-01</td>\n",
              "      <td>9.966912e-01</td>\n",
              "      <td>9.991005e-01</td>\n",
              "      <td>9.994478e-01</td>\n",
              "    </tr>\n",
              "    <tr>\n",
              "      <th>50</th>\n",
              "      <td>3.952525e-323</td>\n",
              "      <td>4.446591e-323</td>\n",
              "      <td>1.630417e-322</td>\n",
              "      <td>1.679823e-322</td>\n",
              "    </tr>\n",
              "    <tr>\n",
              "      <th>10</th>\n",
              "      <td>1.729230e-322</td>\n",
              "      <td>1.778636e-322</td>\n",
              "      <td>1.828043e-322</td>\n",
              "      <td>1.877449e-322</td>\n",
              "    </tr>\n",
              "    <tr>\n",
              "      <th>5</th>\n",
              "      <td>1.926856e-322</td>\n",
              "      <td>1.976263e-322</td>\n",
              "      <td>2.025669e-322</td>\n",
              "      <td>2.075076e-322</td>\n",
              "    </tr>\n",
              "  </tbody>\n",
              "</table>\n",
              "</div>"
            ],
            "text/plain": [
              "                 3              5             10           None\n",
              "200   9.912505e-01   9.969823e-01   9.992689e-01   9.994421e-01\n",
              "150   9.896844e-01   9.966912e-01   9.991005e-01   9.994478e-01\n",
              "50   3.952525e-323  4.446591e-323  1.630417e-322  1.679823e-322\n",
              "10   1.729230e-322  1.778636e-322  1.828043e-322  1.877449e-322\n",
              "5    1.926856e-322  1.976263e-322  2.025669e-322  2.075076e-322"
            ]
          },
          "metadata": {
            "tags": []
          },
          "execution_count": 16
        }
      ]
    },
    {
      "cell_type": "code",
      "metadata": {
        "id": "Rj5SyVqEdVrx",
        "colab_type": "code",
        "colab": {
          "base_uri": "https://localhost:8080/",
          "height": 285
        },
        "outputId": "d85836ad-bba1-4f5a-8850-f6ec75651dd3"
      },
      "source": [
        "ax=sns.heatmap(arr,annot=True,fmt='g')\n",
        "\n",
        "bottom, top = ax.get_ylim()\n",
        "ax.set_ylim(bottom + 0.5, top - 0.5)"
      ],
      "execution_count": 14,
      "outputs": [
        {
          "output_type": "execute_result",
          "data": {
            "text/plain": [
              "(5.5, -0.5)"
            ]
          },
          "metadata": {
            "tags": []
          },
          "execution_count": 14
        },
        {
          "output_type": "display_data",
          "data": {
            "image/png": "[encoded data removed]",
            "text/plain": [
              "<Figure size 432x288 with 2 Axes>"
            ]
          },
          "metadata": {
            "tags": [],
            "needs_background": "light"
          }
        }
      ]
    },
    {
      "cell_type": "markdown",
      "metadata": {
        "id": "wVSdX7qvbq1v",
        "colab_type": "text"
      },
      "source": [
        "## Feature list\n",
        "1.   duration: continuous.\n",
        "2. protocol_type: symbolic.\n",
        "3. service: symbolic.\n",
        "4. flag: symbolic.\n",
        "5. src_bytes: continuous.\n",
        "6. dst_bytes: continuous.\n",
        "7. land: symbolic.\n",
        "8. wrong_fragment: continuous.\n",
        "9. urgent: continuous.\n",
        "10. hot: continuous.\n",
        "11. num_failed_logins: continuous.\n",
        "12. logged_in: symbolic.\n",
        "13. num_compromised: continuous.\n",
        "14. root_shell: continuous.\n",
        "15. su_attempted: continuous.\n",
        "16. num_root: continuous.\n",
        "17. num_file_creations: continuous.\n",
        "18. num_shells: continuous.\n",
        "19. num_access_files: continuous.\n",
        "20. num_outbound_cmds: continuous.\n",
        "21. is_host_login: symbolic.\n",
        "22. is_guest_login: symbolic.\n",
        "23. count: continuous.\n",
        "24. srv_count: continuous.\n",
        "25. serror_rate: continuous.\n",
        "26. srv_serror_rate: continuous.\n",
        "27. rerror_rate: continuous.\n",
        "28. srv_rerror_rate: continuous.\n",
        "29. same_srv_rate: continuous.\n",
        "30. diff_srv_rate: continuous.\n",
        "31. srv_diff_host_rate: continuous.\n",
        "32. dst_host_count: continuous.\n",
        "33. dst_host_srv_count: continuous.\n",
        "34. dst_host_same_srv_rate: continuous.\n",
        "35. dst_host_diff_srv_rate: continuous.\n",
        "36. dst_host_same_src_port_rate: continuous.\n",
        "37. dst_host_srv_diff_host_rate: continuous.\n",
        "38. dst_host_serror_rate: continuous.\n",
        "39. dst_host_srv_serror_rate: continuous.\n",
        "40. dst_host_rerror_rate: continuous.\n",
        "41. dst_host_srv_rerror_rate: continuous.\n",
        "\n",
        "## Target list (Types of attack)\n",
        "1. back\n",
        "2. buffer_overflow\n",
        "3. ftp_write,guess_passwd\n",
        "4. imap,ipsweep\n",
        "5. land\n",
        "6. loadmodule\n",
        "7. multihop\n",
        "8. neptune\n",
        "9. nmap\n",
        "10. normal\n",
        "11. perl\n",
        "12. phf\n",
        "13. pod\n",
        "14. portsweep\n",
        "15. rootkit\n",
        "16. satan\n",
        "17. smurf\n",
        "18. spy\n",
        "19. teardrop\n",
        "20. warezclient\n",
        "21. warezmaster."
      ]
    },
    {
      "cell_type": "code",
      "metadata": {
        "id": "lTa1xhPNnntP",
        "colab_type": "code",
        "colab": {
          "base_uri": "https://localhost:8080/",
          "height": 163
        },
        "outputId": "e3af6929-8a1f-4080-da62-7042adac2606"
      },
      "source": [
        "G=sns.pairplot(scaled_df_wine_df_quality,vars=D,hue='quality')"
      ],
      "execution_count": 15,
      "outputs": [
        {
          "output_type": "error",
          "ename": "NameError",
          "evalue": "ignored",
          "traceback": [
            "\u001b[0;31m---------------------------------------------------------------------------\u001b[0m",
            "\u001b[0;31mNameError\u001b[0m                                 Traceback (most recent call last)",
            "\u001b[0;32m<ipython-input-15-670ebbbd9278>\u001b[0m in \u001b[0;36m<module>\u001b[0;34m()\u001b[0m\n\u001b[0;32m----> 1\u001b[0;31m \u001b[0mG\u001b[0m\u001b[0;34m=\u001b[0m\u001b[0msns\u001b[0m\u001b[0;34m.\u001b[0m\u001b[0mpairplot\u001b[0m\u001b[0;34m(\u001b[0m\u001b[0mscaled_df_wine_df_quality\u001b[0m\u001b[0;34m,\u001b[0m\u001b[0mvars\u001b[0m\u001b[0;34m=\u001b[0m\u001b[0mD\u001b[0m\u001b[0;34m,\u001b[0m\u001b[0mhue\u001b[0m\u001b[0;34m=\u001b[0m\u001b[0;34m'quality'\u001b[0m\u001b[0;34m)\u001b[0m\u001b[0;34m\u001b[0m\u001b[0;34m\u001b[0m\u001b[0m\n\u001b[0m",
            "\u001b[0;31mNameError\u001b[0m: name 'scaled_df_wine_df_quality' is not defined"
          ]
        }
      ]
    }
  ],
  "metadata": {
    "colab": {
      "name": "ECE659_EXP.ipynb",
      "provenance": []
    },
    "kernelspec": {
      "name": "python3",
      "display_name": "Python 3"
    }
  },
  "nbformat": 4,
  "nbformat_minor": 0
}